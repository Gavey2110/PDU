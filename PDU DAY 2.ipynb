{
 "cells": [
  {
   "cell_type": "code",
   "execution_count": 1,
   "id": "24b99b5e",
   "metadata": {},
   "outputs": [
    {
     "name": "stdout",
     "output_type": "stream",
     "text": [
      "Updated array: [1, 2, 3, 4, 5, 6]\n"
     ]
    }
   ],
   "source": [
    "# Q1: Initialize an array with 5 numbers, add a new number, and print the updated array\n",
    "\n",
    "from array import array\n",
    "\n",
    "numbers = array('i', [1, 2, 3, 4, 5])\n",
    "\n",
    "numbers.append(6)\n",
    "\n",
    "print(\"Updated array:\", numbers.tolist())"
   ]
  },
  {
   "cell_type": "code",
   "execution_count": 3,
   "id": "5d1eeb01",
   "metadata": {},
   "outputs": [],
   "source": [
    "# Q2: Take user input to add multiple elements to an array, then print the final array\n",
    "\n",
    "user_array = []\n",
    "\n",
    "n = int(input(\"1,100 \"))\n",
    "\n",
    "for _ in range(n):\n",
    "    element = input(\"Enter an element: \")\n",
    "    user_array.append(element)\n",
    "\n",
    "print(\"Final array:\", user_array)"
   ]
  },
  {
   "cell_type": "code",
   "execution_count": 1,
   "id": "1a72de7e",
   "metadata": {},
   "outputs": [
    {
     "name": "stdout",
     "output_type": "stream",
     "text": [
      "Explanation: This is the explanation of the astronomy picture of the day.\n",
      "Title: Astronomy Picture of the Day\n"
     ]
    }
   ],
   "source": [
    "# Q3: Read a JSON file containing NASA APOD data and print specific keys\n",
    "\n",
    "import json\n",
    "\n",
    "json_data = '''{\n",
    "    \"date\": \"2024-08-06\",\n",
    "    \"explanation\": \"This is the explanation of the astronomy picture of the day.\",\n",
    "    \"hdurl\": \"http://example.com/image_hd.jpg\",\n",
    "    \"media_type\": \"image\",\n",
    "    \"service_version\": \"v1\",\n",
    "    \"title\": \"Astronomy Picture of the Day\",\n",
    "    \"url\": \"http://example.com/image.jpg\"\n",
    "}'''\n",
    "\n",
    "data = json.loads(json_data)\n",
    "\n",
    "print(\"Explanation:\", data.get(\"explanation\"))\n",
    "print(\"Title:\", data.get(\"title\"))"
   ]
  },
  {
   "cell_type": "code",
   "execution_count": null,
   "id": "873335fd",
   "metadata": {},
   "outputs": [],
   "source": [
    "# Q4: Use the requests module to send a GET request and print the JSON response\n",
    "\n",
    "import requests\n",
    "import json\n",
    "\n",
    "url = 'http://api.open-notify.org/iss-now.json'\n",
    "\n",
    "response = requests.get(url)\n",
    "\n",
    "print(\"JSON Response:\", response.json())"
   ]
  },
  {
   "cell_type": "code",
   "execution_count": null,
   "id": "9de91409",
   "metadata": {},
   "outputs": [],
   "source": [
    "# Q5: Print specific fields from the JSON response using requests\n",
    "\n",
    "import requests\n",
    "\n",
    "url = 'http://api.open-notify.org/iss-now.json'\n",
    "\n",
    "response = requests.get(url)\n",
    "\n",
    "data = response.json()\n",
    "\n",
    "print(\"Latitude:\", data['iss_position']['latitude'])\n",
    "print(\"Longitude:\", data['iss_position']['longitude'])\n",
    "print(\"Timestamp:\", data['timestamp'])"
   ]
  },
  {
   "cell_type": "code",
   "execution_count": null,
   "id": "cd0087be",
   "metadata": {},
   "outputs": [],
   "source": [
    "# Q6: Write ISS Location data to a CSV file using pandas\n",
    "\n",
    "import requests\n",
    "import pandas as pd\n",
    "from datetime import datetime\n",
    "\n",
    "url = 'http://api.open-notify.org/iss-now.json'\n",
    "\n",
    "data_list = []\n",
    "\n",
    "for _ in range(100):\n",
    "    response = requests.get(url)\n",
    "    data = response.json()\n",
    "    \n",
    "    data_list.append({\n",
    "        'timestamp': datetime.fromtimestamp(data['timestamp']),\n",
    "        'latitude': data['iss_position']['latitude'],\n",
    "        'longitude': data['iss_position']['longitude']\n",
    "    })\n",
    "\n",
    "df = pd.DataFrame(data_list)\n",
    "\n",
    "df.to_csv('iss_location.csv', index=False)\n",
    "\n",
    "print(\"Data written to 'iss_location.csv'\")"
   ]
  }
 ],
 "metadata": {
  "kernelspec": {
   "display_name": "Python 3 (ipykernel)",
   "language": "python",
   "name": "python3"
  },
  "language_info": {
   "codemirror_mode": {
    "name": "ipython",
    "version": 3
   },
   "file_extension": ".py",
   "mimetype": "text/x-python",
   "name": "python",
   "nbconvert_exporter": "python",
   "pygments_lexer": "ipython3",
   "version": "3.12.4"
  }
 },
 "nbformat": 4,
 "nbformat_minor": 5
}
